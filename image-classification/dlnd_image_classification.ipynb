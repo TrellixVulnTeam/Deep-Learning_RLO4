{
 "cells": [
  {
   "cell_type": "markdown",
   "metadata": {
    "collapsed": true
   },
   "source": [
    "# Image Classification\n",
    "In this project, you'll classify images from the [CIFAR-10 dataset](https://www.cs.toronto.edu/~kriz/cifar.html).  The dataset consists of airplanes, dogs, cats, and other objects. You'll preprocess the images, then train a convolutional neural network on all the samples. The images need to be normalized and the labels need to be one-hot encoded.  You'll get to apply what you learned and build a convolutional, max pooling, dropout, and fully connected layers.  At the end, you'll get to see your neural network's predictions on the sample images.\n",
    "## Get the Data\n",
    "Run the following cell to download the [CIFAR-10 dataset for python](https://www.cs.toronto.edu/~kriz/cifar-10-python.tar.gz)."
   ]
  },
  {
   "cell_type": "code",
   "execution_count": 89,
   "metadata": {
    "collapsed": false
   },
   "outputs": [
    {
     "name": "stdout",
     "output_type": "stream",
     "text": [
      "All files found!\n"
     ]
    }
   ],
   "source": [
    "\"\"\"\n",
    "DON'T MODIFY ANYTHING IN THIS CELL THAT IS BELOW THIS LINE\n",
    "\"\"\"\n",
    "from urllib.request import urlretrieve\n",
    "from os.path import isfile, isdir\n",
    "from tqdm import tqdm\n",
    "import problem_unittests as tests\n",
    "import tarfile\n",
    "\n",
    "cifar10_dataset_folder_path = 'cifar-10-batches-py'\n",
    "\n",
    "class DLProgress(tqdm):\n",
    "    last_block = 0\n",
    "\n",
    "    def hook(self, block_num=1, block_size=1, total_size=None):\n",
    "        self.total = total_size\n",
    "        self.update((block_num - self.last_block) * block_size)\n",
    "        self.last_block = block_num\n",
    "\n",
    "if not isfile('cifar-10-python.tar.gz'):\n",
    "    with DLProgress(unit='B', unit_scale=True, miniters=1, desc='CIFAR-10 Dataset') as pbar:\n",
    "        urlretrieve(\n",
    "            'https://www.cs.toronto.edu/~kriz/cifar-10-python.tar.gz',\n",
    "            'cifar-10-python.tar.gz',\n",
    "            pbar.hook)\n",
    "\n",
    "if not isdir(cifar10_dataset_folder_path):\n",
    "    with tarfile.open('cifar-10-python.tar.gz') as tar:\n",
    "        tar.extractall()\n",
    "        tar.close()\n",
    "\n",
    "\n",
    "tests.test_folder_path(cifar10_dataset_folder_path)"
   ]
  },
  {
   "cell_type": "markdown",
   "metadata": {},
   "source": [
    "## Explore the Data\n",
    "The dataset is broken into batches to prevent your machine from running out of memory.  The CIFAR-10 dataset consists of 5 batches, named `data_batch_1`, `data_batch_2`, etc.. Each batch contains the labels and images that are one of the following:\n",
    "* airplane\n",
    "* automobile\n",
    "* bird\n",
    "* cat\n",
    "* deer\n",
    "* dog\n",
    "* frog\n",
    "* horse\n",
    "* ship\n",
    "* truck\n",
    "\n",
    "Understanding a dataset is part of making predictions on the data.  Play around with the code cell below by changing the `batch_id` and `sample_id`. The `batch_id` is the id for a batch (1-5). The `sample_id` is the id for a image and label pair in the batch.\n",
    "\n",
    "Ask yourself \"What are all possible labels?\", \"What is the range of values for the image data?\", \"Are the labels in order or random?\".  Answers to questions like these will help you preprocess the data and end up with better predictions."
   ]
  },
  {
   "cell_type": "code",
   "execution_count": 91,
   "metadata": {
    "collapsed": false
   },
   "outputs": [
    {
     "name": "stdout",
     "output_type": "stream",
     "text": [
      "\n",
      "Stats of batch 2:\n",
      "Samples: 10000\n",
      "Label Counts: {0: 984, 1: 1007, 2: 1010, 3: 995, 4: 1010, 5: 988, 6: 1008, 7: 1026, 8: 987, 9: 985}\n",
      "First 20 Labels: [1, 6, 6, 8, 8, 3, 4, 6, 0, 6, 0, 3, 6, 6, 5, 4, 8, 3, 2, 6]\n",
      "\n",
      "Example of Image 6:\n",
      "Image - Min Value: 0 Max Value: 235\n",
      "Image - Shape: (32, 32, 3)\n",
      "Label - Label Id: 4 Name: deer\n"
     ]
    },
    {
     "data": {
      "image/png": "[encoded data removed]",
      "text/plain": [
       "<matplotlib.figure.Figure at 0x11bf2c2e8>"
      ]
     },
     "metadata": {
      "image/png": {
       "height": 250,
       "width": 253
      }
     },
     "output_type": "display_data"
    }
   ],
   "source": [
    "%matplotlib inline\n",
    "%config InlineBackend.figure_format = 'retina'\n",
    "\n",
    "import helper\n",
    "import numpy as np\n",
    "\n",
    "# Explore the dataset\n",
    "batch_id = 2\n",
    "sample_id = 6\n",
    "helper.display_stats(cifar10_dataset_folder_path, batch_id, sample_id)"
   ]
  },
  {
   "cell_type": "markdown",
   "metadata": {},
   "source": [
    "## Implement Preprocess Functions\n",
    "### Normalize\n",
    "In the cell below, implement the `normalize` function to take in image data, `x`, and return it as a normalized Numpy array. The values should be in the range of 0 to 1, inclusive.  The return object should be the same shape as `x`."
   ]
  },
  {
   "cell_type": "code",
   "execution_count": 92,
   "metadata": {
    "collapsed": false
   },
   "outputs": [
    {
     "name": "stdout",
     "output_type": "stream",
     "text": [
      "Tests Passed\n"
     ]
    }
   ],
   "source": [
    "def normalize(x):\n",
    "    \"\"\"\n",
    "    Normalize a list of sample image data in the range of 0 to 1\n",
    "    : x: List of image data.  The image shape is (32, 32, 3)\n",
    "    : return: Numpy array of normalize data\n",
    "    \"\"\"\n",
    "    # TODO: Implement Function\n",
    "    # Normalize by divide by maximum value (channel intensity) in the images.\n",
    "    return np.divide(x,255.0)\n",
    "\n",
    "\n",
    "\"\"\"\n",
    "DON'T MODIFY ANYTHING IN THIS CELL THAT IS BELOW THIS LINE\n",
    "\"\"\"\n",
    "\n",
    "tests.test_normalize(normalize)"
   ]
  },
  {
   "cell_type": "markdown",
   "metadata": {},
   "source": [
    "### One-hot encode\n",
    "Just like the previous code cell, you'll be implementing a function for preprocessing.  This time, you'll implement the `one_hot_encode` function. The input, `x`, are a list of labels.  Implement the function to return the list of labels as One-Hot encoded Numpy array.  The possible values for labels are 0 to 9. The one-hot encoding function should return the same encoding for each value between each call to `one_hot_encode`.  Make sure to save the map of encodings outside the function.\n",
    "\n",
    "Hint: Don't reinvent the wheel."
   ]
  },
  {
   "cell_type": "code",
   "execution_count": 93,
   "metadata": {
    "collapsed": false
   },
   "outputs": [
    {
     "name": "stdout",
     "output_type": "stream",
     "text": [
      "[0 1 2 3 4 5 6 7 8 9]\n",
      "Tests Passed\n"
     ]
    }
   ],
   "source": [
    "from sklearn import preprocessing\n",
    "num_classes = 10 #by definition of CFAR-10, e.g airplane, automobile\n",
    "\n",
    "## Create the one-hot-encoder lb. This is created statically outside the function so that one_hot_encode doesn't \n",
    "#    repeat the work with each call.\n",
    "# Create labels for all classes\n",
    "labels = np.arange(num_classes)\n",
    "print(labels)\n",
    "# Create the encoder\n",
    "lb = preprocessing.LabelBinarizer()\n",
    "# Here the encoder finds the classes and assigns one-hot vectors \n",
    "lb.fit(labels)\n",
    "#lb.transform(labels)\n",
    "\n",
    "\n",
    "def one_hot_encode(x):\n",
    "    \"\"\"\n",
    "    One hot encode a list of sample labels. Return a one-hot encoded vector for each label.\n",
    "    : x: List of sample Labels\n",
    "    : return: Numpy array of one-hot encoded labels\n",
    "    \"\"\"\n",
    "    # Transform the labels into one-hot encoded vectors\n",
    "    return lb.transform(x)\n",
    "\n",
    "\n",
    "\"\"\"\n",
    "DON'T MODIFY ANYTHING IN THIS CELL THAT IS BELOW THIS LINE\n",
    "\"\"\"\n",
    "tests.test_one_hot_encode(one_hot_encode)"
   ]
  },
  {
   "cell_type": "markdown",
   "metadata": {},
   "source": [
    "### Randomize Data\n",
    "As you saw from exploring the data above, the order of the samples are randomized.  It doesn't hurt to randomize it again, but you don't need to for this dataset."
   ]
  },
  {
   "cell_type": "markdown",
   "metadata": {},
   "source": [
    "## Preprocess all the data and save it\n",
    "Running the code cell below will preprocess all the CIFAR-10 data and save it to file. The code below also uses 10% of the training data for validation."
   ]
  },
  {
   "cell_type": "code",
   "execution_count": 94,
   "metadata": {
    "collapsed": false
   },
   "outputs": [],
   "source": [
    "\"\"\"\n",
    "DON'T MODIFY ANYTHING IN THIS CELL\n",
    "\"\"\"\n",
    "# Preprocess Training, Validation, and Testing Data\n",
    "helper.preprocess_and_save_data(cifar10_dataset_folder_path, normalize, one_hot_encode)"
   ]
  },
  {
   "cell_type": "markdown",
   "metadata": {},
   "source": [
    "# Check Point\n",
    "This is your first checkpoint.  If you ever decide to come back to this notebook or have to restart the notebook, you can start from here.  The preprocessed data has been saved to disk."
   ]
  },
  {
   "cell_type": "code",
   "execution_count": 95,
   "metadata": {
    "collapsed": true
   },
   "outputs": [],
   "source": [
    "\"\"\"\n",
    "DON'T MODIFY ANYTHING IN THIS CELL\n",
    "\"\"\"\n",
    "import pickle\n",
    "import problem_unittests as tests\n",
    "import helper\n",
    "\n",
    "# Load the Preprocessed Validation data\n",
    "valid_features, valid_labels = pickle.load(open('preprocess_validation.p', mode='rb'))"
   ]
  },
  {
   "cell_type": "markdown",
   "metadata": {},
   "source": [
    "## Build the network\n",
    "For the neural network, you'll build each layer into a function.  Most of the code you've seen has been outside of functions. To test your code more thoroughly, we require that you put each layer in a function.  This allows us to give you better feedback and test for simple mistakes using our unittests before you submit your project.\n",
    "\n",
    "If you're finding it hard to dedicate enough time for this course a week, we've provided a small shortcut to this part of the project. In the next couple of problems, you'll have the option to use [TensorFlow Layers](https://www.tensorflow.org/api_docs/python/tf/layers) or [TensorFlow Layers (contrib)](https://www.tensorflow.org/api_guides/python/contrib.layers) to build each layer, except \"Convolutional & Max Pooling\" layer.  TF Layers is similar to Keras's and TFLearn's abstraction to layers, so it's easy to pickup.\n",
    "\n",
    "If you would like to get the most of this course, try to solve all the problems without TF Layers.  Let's begin!\n",
    "### Input\n",
    "The neural network needs to read the image data, one-hot encoded labels, and dropout keep probability. Implement the following functions\n",
    "* Implement `neural_net_image_input`\n",
    " * Return a [TF Placeholder](https://www.tensorflow.org/api_docs/python/tf/placeholder)\n",
    " * Set the shape using `image_shape` with batch size set to `None`.\n",
    " * Name the TensorFlow placeholder \"x\" using the TensorFlow `name` parameter in the [TF Placeholder](https://www.tensorflow.org/api_docs/python/tf/placeholder).\n",
    "* Implement `neural_net_label_input`\n",
    " * Return a [TF Placeholder](https://www.tensorflow.org/api_docs/python/tf/placeholder)\n",
    " * Set the shape using `n_classes` with batch size set to `None`.\n",
    " * Name the TensorFlow placeholder \"y\" using the TensorFlow `name` parameter in the [TF Placeholder](https://www.tensorflow.org/api_docs/python/tf/placeholder).\n",
    "* Implement `neural_net_keep_prob_input`\n",
    " * Return a [TF Placeholder](https://www.tensorflow.org/api_docs/python/tf/placeholder) for dropout keep probability.\n",
    " * Name the TensorFlow placeholder \"keep_prob\" using the TensorFlow `name` parameter in the [TF Placeholder](https://www.tensorflow.org/api_docs/python/tf/placeholder).\n",
    "\n",
    "These names will be used at the end of the project to load your saved model.\n",
    "\n",
    "Note: `None` for shapes in TensorFlow allow for a dynamic size."
   ]
  },
  {
   "cell_type": "code",
   "execution_count": 97,
   "metadata": {
    "collapsed": false
   },
   "outputs": [
    {
     "name": "stdout",
     "output_type": "stream",
     "text": [
      "Image Input Tests Passed.\n",
      "Label Input Tests Passed.\n",
      "Keep Prob Tests Passed.\n"
     ]
    }
   ],
   "source": [
    "import tensorflow as tf\n",
    "\n",
    "def neural_net_image_input(image_shape):\n",
    "    \"\"\"\n",
    "    Return a Tensor for a bach of image input\n",
    "    : image_shape: Shape of the images\n",
    "    : return: Tensor for image input.\n",
    "    \"\"\"\n",
    "    # image_shape = [width, height, depth]\n",
    "    # None for batch because it will be determined later.\n",
    "    return tf.placeholder(tf.float32, \n",
    "                          shape=[None, image_shape[0], image_shape[1], image_shape[2]], \n",
    "                          name='x')\n",
    "\n",
    "\n",
    "def neural_net_label_input(n_classes):\n",
    "    \"\"\"\n",
    "    Return a Tensor for a batch of label input\n",
    "    : n_classes: Number of classes\n",
    "    : return: Tensor for label input.\n",
    "    \"\"\"\n",
    "    # label vector must have the same length as the number of classes.\n",
    "    return tf.placeholder(tf.float32, shape=[None, n_classes], name='y')\n",
    "\n",
    "\n",
    "\n",
    "def neural_net_keep_prob_input():\n",
    "    \"\"\"\n",
    "    Return a Tensor for keep probability\n",
    "    : return: Tensor for keep probability.\n",
    "    \"\"\"\n",
    "    # cannot assign a shape to this placeholder as it depends on the network.\n",
    "    #  This is for use in dropout function.\n",
    "    return tf.placeholder(tf.float32, name='keep_prob')\n",
    "\"\"\"\n",
    "DON'T MODIFY ANYTHING IN THIS CELL THAT IS BELOW THIS LINE\n",
    "\"\"\"\n",
    "tf.reset_default_graph()\n",
    "tests.test_nn_image_inputs(neural_net_image_input)\n",
    "tests.test_nn_label_inputs(neural_net_label_input)\n",
    "tests.test_nn_keep_prob_inputs(neural_net_keep_prob_input)"
   ]
  },
  {
   "cell_type": "markdown",
   "metadata": {},
   "source": [
    "### Convolution and Max Pooling Layer\n",
    "Convolution layers have a lot of success with images. For this code cell, you should implement the function `conv2d_maxpool` to apply convolution then max pooling:\n",
    "* Create the weight and bias using `conv_ksize`, `conv_num_outputs` and the shape of `x_tensor`.\n",
    "* Apply a convolution to `x_tensor` using weight and `conv_strides`.\n",
    " * We recommend you use same padding, but you're welcome to use any padding.\n",
    "* Add bias\n",
    "* Add a nonlinear activation to the convolution.\n",
    "* Apply Max Pooling using `pool_ksize` and `pool_strides`.\n",
    " * We recommend you use same padding, but you're welcome to use any padding.\n",
    "\n",
    "Note: You **can't** use [TensorFlow Layers](https://www.tensorflow.org/api_docs/python/tf/layers) or [TensorFlow Layers (contrib)](https://www.tensorflow.org/api_guides/python/contrib.layers) for this layer.  You're free to use any TensorFlow package for all the other layers."
   ]
  },
  {
   "cell_type": "code",
   "execution_count": 98,
   "metadata": {
    "collapsed": false
   },
   "outputs": [
    {
     "name": "stdout",
     "output_type": "stream",
     "text": [
      "Tests Passed\n"
     ]
    }
   ],
   "source": [
    "def conv2d_maxpool(x_tensor, conv_num_outputs, conv_ksize, conv_strides, pool_ksize, pool_strides):\n",
    "    \"\"\"\n",
    "    Apply convolution then max pooling to x_tensor\n",
    "    :param x_tensor: TensorFlow Tensor\n",
    "    :param conv_num_outputs: Number of outputs for the convolutional layer\n",
    "    :param conv_strides: Stride 2-D Tuple for convolution\n",
    "    :param pool_ksize: kernal size 2-D Tuple for pool\n",
    "    :param pool_strides: Stride 2-D Tuple for pool\n",
    "    : return: A tensor that represents convolution and max pooling of x_tensor\n",
    "    \"\"\"\n",
    "    #print(\"Conv layer\\n\", conv_layer)\n",
    "    \n",
    "    ### Create weights placeholder\n",
    "    # shape=[batch,width,height,depth]\n",
    "    # Must use get_shape and as_list because the tensor object must use its own (not Python) functions.\n",
    "    shape = x_tensor.get_shape().as_list()\n",
    "    #print(\"x_tensor Shape\\n\",shape)\n",
    "    # Truncated_normal ensures the weights have a normal distribution with a small\n",
    "    #   standard deviation stddev, and mean 0.\n",
    "    # The first list is the weight dimensions (height, width, input_depth, output_depth)\n",
    "    # Height and width from kernel size conv_ksize\n",
    "    # Input depth from input data (shape[3])\n",
    "    # Output depth from output of convolution layer: conv_num_outputs\n",
    "    weights = tf.Variable(\n",
    "        tf.truncated_normal([conv_ksize[0], conv_ksize[1], shape[3], conv_num_outputs], stddev=0.05, mean=0))\n",
    "    ### Create bias placeholder. Has same length as number of outputs \n",
    "    bias = tf.Variable(tf.zeros(conv_num_outputs))\n",
    "\n",
    "    # Apply Convolution\n",
    "    #  The convolution strides has format conv_strides=[height,width]. Batch and depth are 1.\n",
    "    strides = [1, conv_strides[0], conv_strides[1], 1]\n",
    "    conv_layer = tf.nn.conv2d(x_tensor, weights, strides=strides, padding='SAME')\n",
    "    # Add bias\n",
    "    conv_layer = tf.nn.bias_add(conv_layer, bias)\n",
    "    # Apply activation function\n",
    "    conv_layer = tf.nn.relu(conv_layer)\n",
    "    # Apply max pooling\n",
    "    #  Note that the pooling kernel and stride is different than for convolution.\n",
    "    ksize_list = [1, pool_ksize[0], pool_ksize[1], 1]\n",
    "    strides_list = [1, pool_strides[0], pool_strides[1], 1]\n",
    "    conv_layer = tf.nn.max_pool(conv_layer, ksize=ksize_list, strides=strides_list, padding='SAME') \n",
    "    return conv_layer \n",
    "\n",
    "\n",
    "\"\"\"\n",
    "DON'T MODIFY ANYTHING IN THIS CELL THAT IS BELOW THIS LINE\n",
    "\"\"\"\n",
    "tests.test_con_pool(conv2d_maxpool)"
   ]
  },
  {
   "cell_type": "markdown",
   "metadata": {},
   "source": [
    "### Flatten Layer\n",
    "Implement the `flatten` function to change the dimension of `x_tensor` from a 4-D tensor to a 2-D tensor.  The output should be the shape (*Batch Size*, *Flattened Image Size*). You can use [TensorFlow Layers](https://www.tensorflow.org/api_docs/python/tf/layers) or [TensorFlow Layers (contrib)](https://www.tensorflow.org/api_guides/python/contrib.layers) for this layer."
   ]
  },
  {
   "cell_type": "code",
   "execution_count": 108,
   "metadata": {
    "collapsed": false
   },
   "outputs": [
    {
     "name": "stdout",
     "output_type": "stream",
     "text": [
      "Tests Passed\n"
     ]
    }
   ],
   "source": [
    "\n",
    "def flatten(x_tensor):\n",
    "    \"\"\"\n",
    "    Flatten x_tensor to (Batch Size, Flattened Image Size)\n",
    "    : x_tensor: A tensor of size (Batch Size, ...), where ... are the image dimensions.\n",
    "    : return: A tensor of size (Batch Size, Flattened Image Size).\n",
    "    \"\"\"\n",
    "    #shape=[batch,width,height,depth]\n",
    "    #n_input is height * width * depth of the input image, which will be length of flattened vector.(Excludes batch)\n",
    "    shape = x_tensor.get_shape().as_list()\n",
    "    n_input = np.prod(shape[1:])\n",
    "    #print(\"x_tensor shape\\n\", shape)\n",
    "    #print(\"flattened length\\n\", n_input)\n",
    "    # We can use -1 arg to set the batch size of x_flat.\n",
    "    #   If one component of shape is the special value -1, the size of that dimension is computed so that \n",
    "    #   the total size remains constant. \n",
    "    x_flat = tf.reshape(x_tensor, [-1, n_input])\n",
    "    #print(x_flat)\n",
    "    return x_flat\n",
    "\"\"\"\n",
    "DON'T MODIFY ANYTHING IN THIS CELL THAT IS BELOW THIS LINE\n",
    "\"\"\"\n",
    "tests.test_flatten(flatten)"
   ]
  },
  {
   "cell_type": "markdown",
   "metadata": {},
   "source": [
    "### Fully-Connected Layer\n",
    "Implement the `fully_conn` function to apply a fully connected layer to `x_tensor` with the shape (*Batch Size*, *num_outputs*). You can use [TensorFlow Layers](https://www.tensorflow.org/api_docs/python/tf/layers) or [TensorFlow Layers (contrib)](https://www.tensorflow.org/api_guides/python/contrib.layers) for this layer."
   ]
  },
  {
   "cell_type": "code",
   "execution_count": 109,
   "metadata": {
    "collapsed": false
   },
   "outputs": [
    {
     "name": "stdout",
     "output_type": "stream",
     "text": [
      "Tests Passed\n"
     ]
    }
   ],
   "source": [
    "def fully_conn(x_tensor, num_outputs):\n",
    "    \"\"\"\n",
    "    Apply a fully connected layer to x_tensor using weight and bias\n",
    "    : x_tensor: A 2-D tensor where the first dimension is batch size.\n",
    "    : num_outputs: The number of output that the new tensor should be.\n",
    "    : return: A 2-D tensor where the second dimension is num_outputs.\n",
    "    \"\"\"\n",
    "    shape = x_tensor.get_shape().as_list()\n",
    "    #print(shape)\n",
    "    # length of input tensor X\n",
    "    n_inputs = shape[1]\n",
    "    #X*W tensor. It has dimensions n_inputs * num_outputs (length of input vector * width of hidden layer)\n",
    "    mult = tf.matmul(x_tensor, tf.Variable(tf.random_normal([n_inputs, num_outputs])))\n",
    "    #b biases tensor\n",
    "    outputs = tf.Variable(tf.random_normal([num_outputs]))\n",
    "    #X*W + b\n",
    "    fc = tf.add(mult, outputs)\n",
    "    #Activation is rectifier\n",
    "    fc = tf.nn.relu(fc)\n",
    "    return fc\n",
    "\"\"\"\n",
    "DON'T MODIFY ANYTHING IN THIS CELL THAT IS BELOW THIS LINE\n",
    "\"\"\"\n",
    "tests.test_fully_conn(fully_conn)"
   ]
  },
  {
   "cell_type": "markdown",
   "metadata": {},
   "source": [
    "### Output Layer\n",
    "Implement the `output` function to apply a fully connected layer to `x_tensor` with the shape (*Batch Size*, *num_outputs*). You can use [TensorFlow Layers](https://www.tensorflow.org/api_docs/python/tf/layers) or [TensorFlow Layers (contrib)](https://www.tensorflow.org/api_guides/python/contrib.layers) for this layer.\n",
    "\n",
    "Note: Activation, softmax, or cross entropy shouldn't be applied to this."
   ]
  },
  {
   "cell_type": "code",
   "execution_count": 110,
   "metadata": {
    "collapsed": false
   },
   "outputs": [
    {
     "name": "stdout",
     "output_type": "stream",
     "text": [
      "Tests Passed\n"
     ]
    }
   ],
   "source": [
    "def output(x_tensor, num_outputs):\n",
    "    \"\"\"\n",
    "    Apply a output layer to x_tensor using weight and bias\n",
    "    : x_tensor: A 2-D tensor where the first dimension is batch size.\n",
    "    : num_outputs: The number of output that the new tensor should be.\n",
    "    : return: A 2-D tensor where the second dimension is num_outputs.\n",
    "    \"\"\"  \n",
    "    shape = x_tensor.get_shape().as_list()\n",
    "    # length of input tensor X\n",
    "    n_inputs = shape[1]\n",
    "    #X*W tensor. It has dimensions n_inputs * num_outputs (length of input vector * width of hidden layer)\n",
    "    mult = tf.matmul(x_tensor, tf.Variable(tf.truncated_normal([n_inputs, num_outputs], stddev=0.05, mean=0)))\n",
    "    #b biases tensor\n",
    "    outputs = tf.Variable(tf.zeros([num_outputs]))\n",
    "    #X*W + b\n",
    "    out = tf.add(mult, outputs)\n",
    "    #print('out\\n',out)   \n",
    "    return out\n",
    "\"\"\"\n",
    "DON'T MODIFY ANYTHING IN THIS CELL THAT IS BELOW THIS LINE\n",
    "\"\"\"\n",
    "tests.test_output(output)"
   ]
  },
  {
   "cell_type": "markdown",
   "metadata": {},
   "source": [
    "### Create Convolutional Model\n",
    "Implement the function `conv_net` to create a convolutional neural network model. The function takes in a batch of images, `x`, and outputs logits.  Use the layers you created above to create this model:\n",
    "\n",
    "* Apply 1, 2, or 3 Convolution and Max Pool layers\n",
    "* Apply a Flatten Layer\n",
    "* Apply 1, 2, or 3 Fully Connected Layers\n",
    "* Apply an Output Layer\n",
    "* Return the output\n",
    "* Apply [TensorFlow's Dropout](https://www.tensorflow.org/api_docs/python/tf/nn/dropout) to one or more layers in the model using `keep_prob`. "
   ]
  },
  {
   "cell_type": "code",
   "execution_count": 111,
   "metadata": {
    "collapsed": false
   },
   "outputs": [
    {
     "name": "stdout",
     "output_type": "stream",
     "text": [
      "### conv_net: Create a convolutional neural network model ###\n",
      "### Done conv_net ###\n",
      "### conv_net: Create a convolutional neural network model ###\n",
      "### Done conv_net ###\n",
      "Neural Network Built!\n"
     ]
    }
   ],
   "source": [
    "def conv_net(x, keep_prob):\n",
    "    \"\"\"\n",
    "    Create a convolutional neural network model\n",
    "    : x: Placeholder tensor that holds image data.\n",
    "    : keep_prob: Placeholder tensor that hold dropout keep probability.\n",
    "    : return: Tensor that represents logits\n",
    "    \"\"\"\n",
    "    print(\"### conv_net: Create a convolutional neural network model ###\")\n",
    "\n",
    "    # TODO: Apply 1, 2, or 3 Convolution and Max Pool layers\n",
    "    #    Play around with different number of outputs, kernel size and stride\n",
    "    # Function Definition from Above:\n",
    "    #    conv2d_maxpool(x_tensor, conv_num_outputs, conv_ksize, conv_strides, pool_ksize, pool_strides)\n",
    "    \n",
    "    # Layer 1\n",
    "    conv_num_outputs = 32 #conv layer depth\n",
    "    conv_ksize = [2,2]    #conv kernel size\n",
    "    conv_strides = [1,1]  #conv kernel stride\n",
    "    pool_ksize = [2,2]    #pooling size\n",
    "    pool_strides = [2,2]  #pooling stride\n",
    "    conv_layer = conv2d_maxpool(x, conv_num_outputs, conv_ksize, conv_strides, pool_ksize, pool_strides)\n",
    "    \n",
    "    # Layer 2\n",
    "    conv_num_outputs = 128\n",
    "    conv_ksize = [2,2]\n",
    "    conv_strides = [1,1]\n",
    "    pool_ksize = [2,2]\n",
    "    pool_strides = [2,2]\n",
    "    conv_layer = conv2d_maxpool(conv_layer, conv_num_outputs, conv_ksize, conv_strides, pool_ksize, pool_strides)\n",
    "\n",
    "    # Layer 3\n",
    "    conv_num_outputs = 256\n",
    "    conv_ksize = [2,2]\n",
    "    conv_strides = [1,1]\n",
    "    pool_ksize = [1,1]\n",
    "    pool_strides = [1,1]\n",
    "    conv_layer = conv2d_maxpool(conv_layer, conv_num_outputs, conv_ksize, conv_strides, pool_ksize, pool_strides)\n",
    "\n",
    "    \n",
    "    # TODO: Apply a Flatten Layer\n",
    "    # Function Definition from Above:\n",
    "    #   flatten(x_tensor)\n",
    "    \n",
    "    # Flatten Layer\n",
    "    flat_layer = flatten(conv_layer)\n",
    "    \n",
    "    # TODO: Apply 1, 2, or 3 Fully Connected Layers\n",
    "    #    Play around with different number of outputs\n",
    "    # Function Definition from Above:\n",
    "    #   fully_conn(x_tensor, num_outputs)\n",
    "    \n",
    "    # Fully Connected Layer 1\n",
    "    #  dropout is used to reduce overfitting\n",
    "    num_outputs = 256\n",
    "    fc_layer = fully_conn(flat_layer, num_outputs)\n",
    "    fc_layer = tf.nn.dropout(fc_layer, keep_prob)\n",
    "\n",
    "    # Fully Connected Layer 2\n",
    "    #  dropout is used to reduce overfitting\n",
    "    num_outputs = 64\n",
    "    fc_layer = fully_conn(fc_layer, num_outputs)\n",
    "    fc_layer = tf.nn.dropout(fc_layer, keep_prob)\n",
    "    \n",
    "    # TODO: Apply an Output Layer\n",
    "    #    Set this to the number of classes\n",
    "    # Function Definition from Above:\n",
    "    #   output(x_tensor, num_outputs    \n",
    "    output_layer = output(fc_layer, num_classes)\n",
    "    \n",
    "    print(\"### Done conv_net ###\")\n",
    "    return output_layer\n",
    "\n",
    "\n",
    "\"\"\"\n",
    "DON'T MODIFY ANYTHING IN THIS CELL THAT IS BELOW THIS LINE\n",
    "\"\"\"\n",
    "\n",
    "##############################\n",
    "## Build the Neural Network ##\n",
    "##############################\n",
    "\n",
    "# Remove previous weights, bias, inputs, etc..\n",
    "tf.reset_default_graph()\n",
    "\n",
    "# Inputs\n",
    "x = neural_net_image_input((32, 32, 3))\n",
    "y = neural_net_label_input(10)\n",
    "keep_prob = neural_net_keep_prob_input()\n",
    "\n",
    "# Model\n",
    "logits = conv_net(x, keep_prob)\n",
    "\n",
    "# Name logits Tensor, so that is can be loaded from disk after training\n",
    "logits = tf.identity(logits, name='logits')\n",
    "\n",
    "# Loss and Optimizer\n",
    "cost = tf.reduce_mean(tf.nn.softmax_cross_entropy_with_logits(logits=logits, labels=y))\n",
    "optimizer = tf.train.AdamOptimizer().minimize(cost)\n",
    "\n",
    "# Accuracy\n",
    "correct_pred = tf.equal(tf.argmax(logits, 1), tf.argmax(y, 1))\n",
    "accuracy = tf.reduce_mean(tf.cast(correct_pred, tf.float32), name='accuracy')\n",
    "\n",
    "tests.test_conv_net(conv_net)"
   ]
  },
  {
   "cell_type": "markdown",
   "metadata": {},
   "source": [
    "## Train the Neural Network\n",
    "### Single Optimization\n",
    "Implement the function `train_neural_network` to do a single optimization.  The optimization should use `optimizer` to optimize in `session` with a `feed_dict` of the following:\n",
    "* `x` for image input\n",
    "* `y` for labels\n",
    "* `keep_prob` for keep probability for dropout\n",
    "\n",
    "This function will be called for each batch, so `tf.global_variables_initializer()` has already been called.\n",
    "\n",
    "Note: Nothing needs to be returned. This function is only optimizing the neural network."
   ]
  },
  {
   "cell_type": "code",
   "execution_count": 112,
   "metadata": {
    "collapsed": false
   },
   "outputs": [
    {
     "name": "stdout",
     "output_type": "stream",
     "text": [
      "Tests Passed\n"
     ]
    }
   ],
   "source": [
    "def train_neural_network(session, optimizer, keep_probability, feature_batch, label_batch):\n",
    "    \"\"\"\n",
    "    Optimize the session on a batch of images and labels\n",
    "    : session: Current TensorFlow session\n",
    "    : optimizer: TensorFlow optimizer function\n",
    "    : keep_probability: keep probability\n",
    "    : feature_batch: Batch of Numpy image data\n",
    "    : label_batch: Batch of Numpy label data\n",
    "    \"\"\"\n",
    "    # Run optimization op (backprop) and cost op (to get loss value)\n",
    "    session.run(optimizer, feed_dict={x: feature_batch, y: label_batch, keep_prob: keep_probability})\n",
    "\n",
    "\n",
    "\"\"\"\n",
    "DON'T MODIFY ANYTHING IN THIS CELL THAT IS BELOW THIS LINE\n",
    "\"\"\"\n",
    "tests.test_train_nn(train_neural_network)"
   ]
  },
  {
   "cell_type": "markdown",
   "metadata": {},
   "source": [
    "### Show Stats\n",
    "Implement the function `print_stats` to print loss and validation accuracy.  Use the global variables `valid_features` and `valid_labels` to calculate validation accuracy.  Use a keep probability of `1.0` to calculate the loss and validation accuracy."
   ]
  },
  {
   "cell_type": "code",
   "execution_count": 133,
   "metadata": {
    "collapsed": false
   },
   "outputs": [],
   "source": [
    "def print_stats(session, feature_batch, label_batch, cost, accuracy):\n",
    "    \"\"\"\n",
    "    Print information about loss and validation accuracy\n",
    "    : session: Current TensorFlow session\n",
    "    : feature_batch: Batch of Numpy image data\n",
    "    : label_batch: Batch of Numpy label data\n",
    "    : cost: TensorFlow cost function\n",
    "    : accuracy: TensorFlow accuracy function\n",
    "    \"\"\"\n",
    "    loss = session.run(\n",
    "        cost,\n",
    "        feed_dict={x: feature_batch, y: label_batch, keep_prob: 1.0})    \n",
    "    \n",
    "    valid_accuracy = session.run(\n",
    "        accuracy,\n",
    "        feed_dict={x: valid_features, y: valid_labels, keep_prob: 1.0})\n",
    "    \n",
    "    print('\\n     Loss: {} \\n     Validation Accuracy: {}'.format(loss, valid_accuracy) )"
   ]
  },
  {
   "cell_type": "markdown",
   "metadata": {},
   "source": [
    "### Hyperparameters\n",
    "Tune the following parameters:\n",
    "* Set `epochs` to the number of iterations until the network stops learning or start overfitting\n",
    "* Set `batch_size` to the highest number that your machine has memory for.  Most people set them to common sizes of memory:\n",
    " * 64\n",
    " * 128\n",
    " * 256\n",
    " * ...\n",
    "* Set `keep_probability` to the probability of keeping a node using dropout"
   ]
  },
  {
   "cell_type": "code",
   "execution_count": 134,
   "metadata": {
    "collapsed": true
   },
   "outputs": [],
   "source": [
    "# TODO: Tune Parameters\n",
    "epochs = 15\n",
    "batch_size = 256\n",
    "keep_probability = 0.80"
   ]
  },
  {
   "cell_type": "markdown",
   "metadata": {},
   "source": [
    "### Train on a Single CIFAR-10 Batch\n",
    "Instead of training the neural network on all the CIFAR-10 batches of data, let's use a single batch. This should save time while you iterate on the model to get a better accuracy.  Once the final validation accuracy is 50% or greater, run the model on all the data in the next section."
   ]
  },
  {
   "cell_type": "code",
   "execution_count": 135,
   "metadata": {
    "collapsed": false
   },
   "outputs": [
    {
     "name": "stdout",
     "output_type": "stream",
     "text": [
      "Checking the Training on a Single Batch...\n",
      "Epoch  1, CIFAR-10 Batch 1:  \n",
      "     Loss: 2.27183198928833 \n",
      "     Validation Accuracy: 0.15559999644756317\n",
      "Epoch  2, CIFAR-10 Batch 1:  \n",
      "     Loss: 2.1184768676757812 \n",
      "     Validation Accuracy: 0.23819999396800995\n",
      "Epoch  3, CIFAR-10 Batch 1:  \n",
      "     Loss: 2.0423903465270996 \n",
      "     Validation Accuracy: 0.30559998750686646\n",
      "Epoch  4, CIFAR-10 Batch 1:  \n",
      "     Loss: 1.8475278615951538 \n",
      "     Validation Accuracy: 0.36480000615119934\n",
      "Epoch  5, CIFAR-10 Batch 1:  \n",
      "     Loss: 1.6417242288589478 \n",
      "     Validation Accuracy: 0.40380001068115234\n",
      "Epoch  6, CIFAR-10 Batch 1:  \n",
      "     Loss: 1.552443027496338 \n",
      "     Validation Accuracy: 0.4352000057697296\n",
      "Epoch  7, CIFAR-10 Batch 1:  \n",
      "     Loss: 1.4268723726272583 \n",
      "     Validation Accuracy: 0.43799999356269836\n",
      "Epoch  8, CIFAR-10 Batch 1:  \n",
      "     Loss: 1.3170363903045654 \n",
      "     Validation Accuracy: 0.46160000562667847\n",
      "Epoch  9, CIFAR-10 Batch 1:  \n",
      "     Loss: 1.2135461568832397 \n",
      "     Validation Accuracy: 0.453000009059906\n",
      "Epoch 10, CIFAR-10 Batch 1:  \n",
      "     Loss: 1.1409443616867065 \n",
      "     Validation Accuracy: 0.4742000102996826\n",
      "Epoch 11, CIFAR-10 Batch 1:  \n",
      "     Loss: 1.113815426826477 \n",
      "     Validation Accuracy: 0.45159998536109924\n",
      "Epoch 12, CIFAR-10 Batch 1:  \n",
      "     Loss: 1.0831401348114014 \n",
      "     Validation Accuracy: 0.44999998807907104\n",
      "Epoch 13, CIFAR-10 Batch 1:  \n",
      "     Loss: 0.9007274508476257 \n",
      "     Validation Accuracy: 0.5058000087738037\n",
      "Epoch 14, CIFAR-10 Batch 1:  \n",
      "     Loss: 0.8576240539550781 \n",
      "     Validation Accuracy: 0.4991999864578247\n",
      "Epoch 15, CIFAR-10 Batch 1:  \n",
      "     Loss: 0.8219276666641235 \n",
      "     Validation Accuracy: 0.521399974822998\n"
     ]
    }
   ],
   "source": [
    "\"\"\"\n",
    "DON'T MODIFY ANYTHING IN THIS CELL\n",
    "\"\"\"\n",
    "print('Checking the Training on a Single Batch...')\n",
    "with tf.Session() as sess:\n",
    "    # Initializing the variables\n",
    "    sess.run(tf.global_variables_initializer())\n",
    "    \n",
    "    # Training cycle\n",
    "    for epoch in range(epochs):\n",
    "        batch_i = 1\n",
    "        for batch_features, batch_labels in helper.load_preprocess_training_batch(batch_i, batch_size):\n",
    "            train_neural_network(sess, optimizer, keep_probability, batch_features, batch_labels)\n",
    "        print('Epoch {:>2}, CIFAR-10 Batch {}:  '.format(epoch + 1, batch_i), end='')\n",
    "        print_stats(sess, batch_features, batch_labels, cost, accuracy)"
   ]
  },
  {
   "cell_type": "markdown",
   "metadata": {},
   "source": [
    "### Fully Train the Model\n",
    "Now that you got a good accuracy with a single CIFAR-10 batch, try it with all five batches."
   ]
  },
  {
   "cell_type": "code",
   "execution_count": 136,
   "metadata": {
    "collapsed": false
   },
   "outputs": [
    {
     "name": "stdout",
     "output_type": "stream",
     "text": [
      "Training...\n",
      "Epoch  1, CIFAR-10 Batch 1:  \n",
      "     Loss: 2.140713691711426 \n",
      "     Validation Accuracy: 0.18780000507831573\n",
      "Epoch  1, CIFAR-10 Batch 2:  \n",
      "     Loss: 2.0322322845458984 \n",
      "     Validation Accuracy: 0.28060001134872437\n",
      "Epoch  1, CIFAR-10 Batch 3:  \n",
      "     Loss: 1.6701717376708984 \n",
      "     Validation Accuracy: 0.33719998598098755\n",
      "Epoch  1, CIFAR-10 Batch 4:  \n",
      "     Loss: 1.7063003778457642 \n",
      "     Validation Accuracy: 0.36959999799728394\n",
      "Epoch  1, CIFAR-10 Batch 5:  \n",
      "     Loss: 1.6000694036483765 \n",
      "     Validation Accuracy: 0.41040000319480896\n",
      "=== End of Epoch  1 ===\n",
      "Epoch  2, CIFAR-10 Batch 1:  \n",
      "     Loss: 1.6821167469024658 \n",
      "     Validation Accuracy: 0.42739999294281006\n",
      "Epoch  2, CIFAR-10 Batch 2:  \n",
      "     Loss: 1.4947850704193115 \n",
      "     Validation Accuracy: 0.45399999618530273\n",
      "Epoch  2, CIFAR-10 Batch 3:  \n",
      "     Loss: 1.2349462509155273 \n",
      "     Validation Accuracy: 0.43560001254081726\n",
      "Epoch  2, CIFAR-10 Batch 4:  \n",
      "     Loss: 1.4030859470367432 \n",
      "     Validation Accuracy: 0.4887999892234802\n",
      "Epoch  2, CIFAR-10 Batch 5:  \n",
      "     Loss: 1.3572156429290771 \n",
      "     Validation Accuracy: 0.4668000042438507\n",
      "=== End of Epoch  2 ===\n",
      "Epoch  3, CIFAR-10 Batch 1:  \n",
      "     Loss: 1.3409936428070068 \n",
      "     Validation Accuracy: 0.5012000203132629\n",
      "Epoch  3, CIFAR-10 Batch 2:  \n",
      "     Loss: 1.2733087539672852 \n",
      "     Validation Accuracy: 0.4941999912261963\n",
      "Epoch  3, CIFAR-10 Batch 3:  \n",
      "     Loss: 1.062605857849121 \n",
      "     Validation Accuracy: 0.4731999933719635\n",
      "Epoch  3, CIFAR-10 Batch 4:  \n",
      "     Loss: 1.1943773031234741 \n",
      "     Validation Accuracy: 0.5288000106811523\n",
      "Epoch  3, CIFAR-10 Batch 5:  \n",
      "     Loss: 1.2371400594711304 \n",
      "     Validation Accuracy: 0.501800000667572\n",
      "=== End of Epoch  3 ===\n",
      "Epoch  4, CIFAR-10 Batch 1:  \n",
      "     Loss: 1.254462718963623 \n",
      "     Validation Accuracy: 0.5257999897003174\n",
      "Epoch  4, CIFAR-10 Batch 2:  \n",
      "     Loss: 1.0826702117919922 \n",
      "     Validation Accuracy: 0.5145999789237976\n",
      "Epoch  4, CIFAR-10 Batch 3:  \n",
      "     Loss: 1.0254404544830322 \n",
      "     Validation Accuracy: 0.5266000032424927\n",
      "Epoch  4, CIFAR-10 Batch 4:  \n",
      "     Loss: 1.05470871925354 \n",
      "     Validation Accuracy: 0.5418000221252441\n",
      "Epoch  4, CIFAR-10 Batch 5:  \n",
      "     Loss: 1.1087169647216797 \n",
      "     Validation Accuracy: 0.5533999800682068\n",
      "=== End of Epoch  4 ===\n",
      "Epoch  5, CIFAR-10 Batch 1:  \n",
      "     Loss: 1.0862573385238647 \n",
      "     Validation Accuracy: 0.5631999969482422\n",
      "Epoch  5, CIFAR-10 Batch 2:  \n",
      "     Loss: 1.001244306564331 \n",
      "     Validation Accuracy: 0.5443999767303467\n",
      "Epoch  5, CIFAR-10 Batch 3:  \n",
      "     Loss: 0.8802772760391235 \n",
      "     Validation Accuracy: 0.5580000281333923\n",
      "Epoch  5, CIFAR-10 Batch 4:  \n",
      "     Loss: 0.9761589169502258 \n",
      "     Validation Accuracy: 0.5824000239372253\n",
      "Epoch  5, CIFAR-10 Batch 5:  \n",
      "     Loss: 0.9870758056640625 \n",
      "     Validation Accuracy: 0.5601999759674072\n",
      "=== End of Epoch  5 ===\n",
      "Epoch  6, CIFAR-10 Batch 1:  \n",
      "     Loss: 1.0287975072860718 \n",
      "     Validation Accuracy: 0.5857999920845032\n",
      "Epoch  6, CIFAR-10 Batch 2:  \n",
      "     Loss: 0.8935906291007996 \n",
      "     Validation Accuracy: 0.5288000106811523\n",
      "Epoch  6, CIFAR-10 Batch 3:  \n",
      "     Loss: 0.7542814016342163 \n",
      "     Validation Accuracy: 0.5896000266075134\n",
      "Epoch  6, CIFAR-10 Batch 4:  \n",
      "     Loss: 0.8606178164482117 \n",
      "     Validation Accuracy: 0.5799999833106995\n",
      "Epoch  6, CIFAR-10 Batch 5:  \n",
      "     Loss: 0.9161561727523804 \n",
      "     Validation Accuracy: 0.590399980545044\n",
      "=== End of Epoch  6 ===\n",
      "Epoch  7, CIFAR-10 Batch 1:  \n",
      "     Loss: 0.9068460464477539 \n",
      "     Validation Accuracy: 0.6029999852180481\n",
      "Epoch  7, CIFAR-10 Batch 2:  \n",
      "     Loss: 0.8099645376205444 \n",
      "     Validation Accuracy: 0.5838000178337097\n",
      "Epoch  7, CIFAR-10 Batch 3:  \n",
      "     Loss: 0.7142987847328186 \n",
      "     Validation Accuracy: 0.5889999866485596\n",
      "Epoch  7, CIFAR-10 Batch 4:  \n",
      "     Loss: 0.7521981000900269 \n",
      "     Validation Accuracy: 0.6159999966621399\n",
      "Epoch  7, CIFAR-10 Batch 5:  \n",
      "     Loss: 0.8003780245780945 \n",
      "     Validation Accuracy: 0.6061999797821045\n",
      "=== End of Epoch  7 ===\n",
      "Epoch  8, CIFAR-10 Batch 1:  \n",
      "     Loss: 0.8431989550590515 \n",
      "     Validation Accuracy: 0.6205999851226807\n",
      "Epoch  8, CIFAR-10 Batch 2:  \n",
      "     Loss: 0.748604416847229 \n",
      "     Validation Accuracy: 0.5771999955177307\n",
      "Epoch  8, CIFAR-10 Batch 3:  \n",
      "     Loss: 0.6463561058044434 \n",
      "     Validation Accuracy: 0.597000002861023\n",
      "Epoch  8, CIFAR-10 Batch 4:  \n",
      "     Loss: 0.73408043384552 \n",
      "     Validation Accuracy: 0.6212000250816345\n",
      "Epoch  8, CIFAR-10 Batch 5:  \n",
      "     Loss: 0.7717177271842957 \n",
      "     Validation Accuracy: 0.6177999973297119\n",
      "=== End of Epoch  8 ===\n",
      "Epoch  9, CIFAR-10 Batch 1:  \n",
      "     Loss: 0.7665364146232605 \n",
      "     Validation Accuracy: 0.6136000156402588\n",
      "Epoch  9, CIFAR-10 Batch 2:  \n",
      "     Loss: 0.6833961606025696 \n",
      "     Validation Accuracy: 0.6244000196456909\n",
      "Epoch  9, CIFAR-10 Batch 3:  \n",
      "     Loss: 0.6041569709777832 \n",
      "     Validation Accuracy: 0.6137999892234802\n",
      "Epoch  9, CIFAR-10 Batch 4:  \n",
      "     Loss: 0.6044851541519165 \n",
      "     Validation Accuracy: 0.6284000277519226\n",
      "Epoch  9, CIFAR-10 Batch 5:  \n",
      "     Loss: 0.6695681810379028 \n",
      "     Validation Accuracy: 0.6191999912261963\n",
      "=== End of Epoch  9 ===\n",
      "Epoch 10, CIFAR-10 Batch 1:  \n",
      "     Loss: 0.6410217881202698 \n",
      "     Validation Accuracy: 0.6395999789237976\n",
      "Epoch 10, CIFAR-10 Batch 2:  \n",
      "     Loss: 0.6485351920127869 \n",
      "     Validation Accuracy: 0.609000027179718\n",
      "Epoch 10, CIFAR-10 Batch 3:  \n",
      "     Loss: 0.5514424443244934 \n",
      "     Validation Accuracy: 0.6370000243186951\n",
      "Epoch 10, CIFAR-10 Batch 4:  \n",
      "     Loss: 0.5328387022018433 \n",
      "     Validation Accuracy: 0.6470000147819519\n",
      "Epoch 10, CIFAR-10 Batch 5:  \n",
      "     Loss: 0.5699516534805298 \n",
      "     Validation Accuracy: 0.6317999958992004\n",
      "=== End of Epoch 10 ===\n",
      "Epoch 11, CIFAR-10 Batch 1:  \n",
      "     Loss: 0.5922354459762573 \n",
      "     Validation Accuracy: 0.6520000100135803\n",
      "Epoch 11, CIFAR-10 Batch 2:  \n",
      "     Loss: 0.5126330256462097 \n",
      "     Validation Accuracy: 0.6403999924659729\n",
      "Epoch 11, CIFAR-10 Batch 3:  \n",
      "     Loss: 0.4824022650718689 \n",
      "     Validation Accuracy: 0.6367999911308289\n",
      "Epoch 11, CIFAR-10 Batch 4:  \n",
      "     Loss: 0.48081785440444946 \n",
      "     Validation Accuracy: 0.6592000126838684\n",
      "Epoch 11, CIFAR-10 Batch 5:  \n",
      "     Loss: 0.5625084638595581 \n",
      "     Validation Accuracy: 0.6119999885559082\n",
      "=== End of Epoch 11 ===\n",
      "Epoch 12, CIFAR-10 Batch 1:  \n",
      "     Loss: 0.5483528971672058 \n",
      "     Validation Accuracy: 0.6603999733924866\n",
      "Epoch 12, CIFAR-10 Batch 2:  \n",
      "     Loss: 0.4646332859992981 \n",
      "     Validation Accuracy: 0.625\n",
      "Epoch 12, CIFAR-10 Batch 3:  \n",
      "     Loss: 0.4008968770503998 \n",
      "     Validation Accuracy: 0.6488000154495239\n",
      "Epoch 12, CIFAR-10 Batch 4:  \n",
      "     Loss: 0.4228541851043701 \n",
      "     Validation Accuracy: 0.670199990272522\n",
      "Epoch 12, CIFAR-10 Batch 5:  \n",
      "     Loss: 0.5107852220535278 \n",
      "     Validation Accuracy: 0.6643999814987183\n",
      "=== End of Epoch 12 ===\n",
      "Epoch 13, CIFAR-10 Batch 1:  \n",
      "     Loss: 0.4780047535896301 \n",
      "     Validation Accuracy: 0.6395999789237976\n",
      "Epoch 13, CIFAR-10 Batch 2:  \n",
      "     Loss: 0.3991084098815918 \n",
      "     Validation Accuracy: 0.6424000263214111\n",
      "Epoch 13, CIFAR-10 Batch 3:  \n",
      "     Loss: 0.32878756523132324 \n",
      "     Validation Accuracy: 0.6593999862670898\n",
      "Epoch 13, CIFAR-10 Batch 4:  \n",
      "     Loss: 0.3965931236743927 \n",
      "     Validation Accuracy: 0.6600000262260437\n",
      "Epoch 13, CIFAR-10 Batch 5:  \n",
      "     Loss: 0.4349593222141266 \n",
      "     Validation Accuracy: 0.6557999849319458\n",
      "=== End of Epoch 13 ===\n",
      "Epoch 14, CIFAR-10 Batch 1:  \n",
      "     Loss: 0.44849252700805664 \n",
      "     Validation Accuracy: 0.6549999713897705\n",
      "Epoch 14, CIFAR-10 Batch 2:  \n",
      "     Loss: 0.34977608919143677 \n",
      "     Validation Accuracy: 0.65420001745224\n",
      "Epoch 14, CIFAR-10 Batch 3:  \n",
      "     Loss: 0.3265365958213806 \n",
      "     Validation Accuracy: 0.6474000215530396\n",
      "Epoch 14, CIFAR-10 Batch 4:  \n",
      "     Loss: 0.3673980236053467 \n",
      "     Validation Accuracy: 0.673799991607666\n",
      "Epoch 14, CIFAR-10 Batch 5:  \n",
      "     Loss: 0.3645269274711609 \n",
      "     Validation Accuracy: 0.6729999780654907\n",
      "=== End of Epoch 14 ===\n",
      "Epoch 15, CIFAR-10 Batch 1:  \n",
      "     Loss: 0.3828841745853424 \n",
      "     Validation Accuracy: 0.6618000268936157\n",
      "Epoch 15, CIFAR-10 Batch 2:  \n",
      "     Loss: 0.3464469909667969 \n",
      "     Validation Accuracy: 0.6585999727249146\n",
      "Epoch 15, CIFAR-10 Batch 3:  \n",
      "     Loss: 0.24325957894325256 \n",
      "     Validation Accuracy: 0.6606000065803528\n",
      "Epoch 15, CIFAR-10 Batch 4:  \n",
      "     Loss: 0.2895928621292114 \n",
      "     Validation Accuracy: 0.6729999780654907\n",
      "Epoch 15, CIFAR-10 Batch 5:  \n",
      "     Loss: 0.32153207063674927 \n",
      "     Validation Accuracy: 0.6812000274658203\n",
      "=== End of Epoch 15 ===\n"
     ]
    }
   ],
   "source": [
    "\"\"\"\n",
    "DON'T MODIFY ANYTHING IN THIS CELL\n",
    "\"\"\"\n",
    "save_model_path = './image_classification'\n",
    "\n",
    "print('Training...')\n",
    "with tf.Session() as sess:\n",
    "    # Initializing the variables\n",
    "    sess.run(tf.global_variables_initializer())\n",
    "    \n",
    "    # Training cycle\n",
    "    for epoch in range(epochs):\n",
    "        # Loop over all batches\n",
    "        n_batches = 5\n",
    "        for batch_i in range(1, n_batches + 1):\n",
    "            for batch_features, batch_labels in helper.load_preprocess_training_batch(batch_i, batch_size):\n",
    "                train_neural_network(sess, optimizer, keep_probability, batch_features, batch_labels)\n",
    "            print('Epoch {:>2}, CIFAR-10 Batch {}:  '.format(epoch + 1, batch_i), end='')\n",
    "            print_stats(sess, batch_features, batch_labels, cost, accuracy)\n",
    "        print('=== End of Epoch {:>2} ==='.format(epoch + 1), end='\\n')\n",
    "       \n",
    "            \n",
    "    # Save Model\n",
    "    saver = tf.train.Saver()\n",
    "    save_path = saver.save(sess, save_model_path)"
   ]
  },
  {
   "cell_type": "markdown",
   "metadata": {},
   "source": [
    "# Checkpoint\n",
    "The model has been saved to disk.\n",
    "## Test Model\n",
    "Test your model against the test dataset.  This will be your final accuracy. You should have an accuracy greater than 50%. If you don't, keep tweaking the model architecture and parameters."
   ]
  },
  {
   "cell_type": "code",
   "execution_count": 137,
   "metadata": {
    "collapsed": false
   },
   "outputs": [
    {
     "name": "stdout",
     "output_type": "stream",
     "text": [
      "Testing Accuracy: 0.68017578125\n",
      "\n"
     ]
    },
    {
     "data": {
      "image/png": "[encoded data removed]",
      "text/plain": [
       "<matplotlib.figure.Figure at 0x11be4c668>"
      ]
     },
     "metadata": {
      "image/png": {
       "height": 319,
       "width": 355
      }
     },
     "output_type": "display_data"
    }
   ],
   "source": [
    "\"\"\"\n",
    "DON'T MODIFY ANYTHING IN THIS CELL\n",
    "\"\"\"\n",
    "%matplotlib inline\n",
    "%config InlineBackend.figure_format = 'retina'\n",
    "\n",
    "import tensorflow as tf\n",
    "import pickle\n",
    "import helper\n",
    "import random\n",
    "\n",
    "# Set batch size if not already set\n",
    "try:\n",
    "    if batch_size:\n",
    "        pass\n",
    "except NameError:\n",
    "    batch_size = 64\n",
    "\n",
    "save_model_path = './image_classification'\n",
    "n_samples = 4\n",
    "top_n_predictions = 3\n",
    "\n",
    "def test_model():\n",
    "    \"\"\"\n",
    "    Test the saved model against the test dataset\n",
    "    \"\"\"\n",
    "\n",
    "    test_features, test_labels = pickle.load(open('preprocess_training.p', mode='rb'))\n",
    "    loaded_graph = tf.Graph()\n",
    "\n",
    "    with tf.Session(graph=loaded_graph) as sess:\n",
    "        # Load model\n",
    "        loader = tf.train.import_meta_graph(save_model_path + '.meta')\n",
    "        loader.restore(sess, save_model_path)\n",
    "\n",
    "        # Get Tensors from loaded model\n",
    "        loaded_x = loaded_graph.get_tensor_by_name('x:0')\n",
    "        loaded_y = loaded_graph.get_tensor_by_name('y:0')\n",
    "        loaded_keep_prob = loaded_graph.get_tensor_by_name('keep_prob:0')\n",
    "        loaded_logits = loaded_graph.get_tensor_by_name('logits:0')\n",
    "        loaded_acc = loaded_graph.get_tensor_by_name('accuracy:0')\n",
    "        \n",
    "        # Get accuracy in batches for memory limitations\n",
    "        test_batch_acc_total = 0\n",
    "        test_batch_count = 0\n",
    "        \n",
    "        for train_feature_batch, train_label_batch in helper.batch_features_labels(test_features, test_labels, batch_size):\n",
    "            test_batch_acc_total += sess.run(\n",
    "                loaded_acc,\n",
    "                feed_dict={loaded_x: train_feature_batch, loaded_y: train_label_batch, loaded_keep_prob: 1.0})\n",
    "            test_batch_count += 1\n",
    "\n",
    "        print('Testing Accuracy: {}\\n'.format(test_batch_acc_total/test_batch_count))\n",
    "\n",
    "        # Print Random Samples\n",
    "        random_test_features, random_test_labels = tuple(zip(*random.sample(list(zip(test_features, test_labels)), n_samples)))\n",
    "        random_test_predictions = sess.run(\n",
    "            tf.nn.top_k(tf.nn.softmax(loaded_logits), top_n_predictions),\n",
    "            feed_dict={loaded_x: random_test_features, loaded_y: random_test_labels, loaded_keep_prob: 1.0})\n",
    "        helper.display_image_predictions(random_test_features, random_test_labels, random_test_predictions)\n",
    "\n",
    "\n",
    "test_model()"
   ]
  },
  {
   "cell_type": "markdown",
   "metadata": {},
   "source": [
    "## Why 50-70% Accuracy?\n",
    "You might be wondering why you can't get an accuracy any higher. First things first, 50% isn't bad for a simple CNN.  Pure guessing would get you 10% accuracy. However, you might notice people are getting scores [well above 70%](http://rodrigob.github.io/are_we_there_yet/build/classification_datasets_results.html#43494641522d3130).  That's because we haven't taught you all there is to know about neural networks. We still need to cover a few more techniques.\n",
    "## Submitting This Project\n",
    "When submitting this project, make sure to run all the cells before saving the notebook.  Save the notebook file as \"dlnd_image_classification.ipynb\" and save it as a HTML file under \"File\" -> \"Download as\".  Include the \"helper.py\" and \"problem_unittests.py\" files in your submission."
   ]
  },
  {
   "cell_type": "code",
   "execution_count": null,
   "metadata": {
    "collapsed": true
   },
   "outputs": [],
   "source": []
  },
  {
   "cell_type": "code",
   "execution_count": null,
   "metadata": {
    "collapsed": true
   },
   "outputs": [],
   "source": []
  },
  {
   "cell_type": "code",
   "execution_count": null,
   "metadata": {
    "collapsed": true
   },
   "outputs": [],
   "source": []
  }
 ],
 "metadata": {
  "kernelspec": {
   "display_name": "Python 3",
   "language": "python",
   "name": "python3"
  },
  "language_info": {
   "codemirror_mode": {
    "name": "ipython",
    "version": 3
   },
   "file_extension": ".py",
   "mimetype": "text/x-python",
   "name": "python",
   "nbconvert_exporter": "python",
   "pygments_lexer": "ipython3",
   "version": "3.5.3"
  }
 },
 "nbformat": 4,
 "nbformat_minor": 0
}
